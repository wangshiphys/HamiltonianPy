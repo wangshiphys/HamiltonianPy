{
 "cells": [
  {
   "cell_type": "markdown",
   "metadata": {},
   "source": [
    "# DataBase for some commonly used cluster"
   ]
  },
  {
   "cell_type": "markdown",
   "metadata": {},
   "source": [
    "## unit-cell information\n",
    "\n",
    "### 1D chain\n",
    "\n",
    "- points\n",
    "  - $p_0 = (0, )$\n",
    "- translation-vectors\n",
    "  - $\\mathbf{a}_0 = (1, )$\n",
    "  \n",
    "  - $\\mathbf{b}_0 = (2\\pi, )$\n",
    "\n",
    "### square\n",
    "\n",
    "- points\n",
    "  - $p_0 = (0, 0)$\n",
    "- translation-vectors\n",
    "  - $\\mathbf{a}_0 = (1, 0)$\n",
    "  - $\\mathbf{a}_1 = (0, 1)$\n",
    "  \n",
    "  - $\\mathbf{b}_0 = (2\\pi, 0)$\n",
    "  - $\\mathbf{b}_1 = (0, 2\\pi)$\n",
    "\n",
    "### triangle\n",
    "\n",
    "- points\n",
    "  - $p_0 = (0, 0)$\n",
    "- translation-vectors\n",
    "  - $\\mathbf{a}_0 = (1, 0)$\n",
    "  - $\\mathbf{a}_1 = (\\frac{1}{2}, \\frac{\\sqrt{3}}{2})$\n",
    "  \n",
    "  - $\\mathbf{b}_0 = (2\\pi, -\\frac{2\\pi}{\\sqrt{3}})$\n",
    "  - $\\mathbf{b}_1 = (0, \\frac{4\\pi}{\\sqrt{3}})$\n",
    "\n",
    "### honeycomb\n",
    "\n",
    "- points\n",
    "  - $p_0 = (0, 0)$\n",
    "  - $p_1 = (0, \\frac{1}{\\sqrt{3}})$\n",
    "- translation-vectors\n",
    "  - $\\mathbf{a}_0 = (1, 0)$\n",
    "  - $\\mathbf{a}_1 = (\\frac{1}{2}, \\frac{\\sqrt{3}}{2})$\n",
    "  \n",
    "  - $\\mathbf{b}_0 = (2\\pi, -\\frac{2\\pi}{\\sqrt{3}})$\n",
    "  - $\\mathbf{b}_1 = (0, \\frac{4\\pi}{\\sqrt{3}})$\n",
    "\n",
    "### kagome\n",
    "\n",
    "- points\n",
    "  - $p_0 = (0, 0)$\n",
    "  - $p_1 = (\\frac{1}{4}, \\frac{\\sqrt{3}}{4})$\n",
    "  - $p_2 = (\\frac{1}{2}, 0)$\n",
    "- translation-vectors\n",
    "  - $\\mathbf{a}_0 = (1, 0)$\n",
    "  - $\\mathbf{a}_1 = (\\frac{1}{2}, \\frac{\\sqrt{3}}{2})$\n",
    "  \n",
    "  - $\\mathbf{b}_0 = (2\\pi, -\\frac{2\\pi}{\\sqrt{3}})$\n",
    "  - $\\mathbf{b}_1 = (0, \\frac{4\\pi}{\\sqrt{3}})$\n",
    "\n",
    "### cubic\n",
    "\n",
    "- points\n",
    "  - $p_0 = (0, 0, 0)$\n",
    "- translation-vectors\n",
    "  - $\\mathbf{a}_0 = (1, 0, 0)$\n",
    "  - $\\mathbf{a}_1 = (0, 1, 0)$\n",
    "  - $\\mathbf{a}_2 = (0, 0, 1)$\n",
    "  \n",
    "  - $\\mathbf{b}_0 = (2\\pi, 0, 0)$\n",
    "  - $\\mathbf{b}_1 = (0, 2\\pi, 0)$\n",
    "  - $\\mathbf{b}_2 = (0, 0, 2\\pi)$"
   ]
  },
  {
   "cell_type": "markdown",
   "metadata": {},
   "source": [
    "## special cluster information\n",
    "\n",
    "### square-cross\n",
    "\n",
    "- points\n",
    "  - $p_0 = (0, 0)$\n",
    "  - $p_1 = (0, 1)$\n",
    "  - $p_2 = (1, 1)$\n",
    "  - $p_3 = (1, 2)$\n",
    "  - $p_4 = (2, 2)$\n",
    "  - $p_5 = (2, 1)$\n",
    "  - $p_6 = (3, 1)$\n",
    "  - $p_7 = (3, 0)$\n",
    "  - $p_8 = (2, 0)$\n",
    "  - $p_9 = (2, -1)$\n",
    "  - $p_{10} = (1, -1)$\n",
    "  - $p_{11} = (1, 0)$\n",
    "- translation-vectors\n",
    "  - $\\mathbf{a}_0 = (3, 2)$\n",
    "  - $\\mathbf{a}_1 = (3, -2)$\n",
    "  \n",
    "  - $\\mathbf{b}_0 = (\\frac{\\pi}{3}, \\frac{\\pi}{2})$\n",
    "  - $\\mathbf{b}_0 = (\\frac{\\pi}{3}, -\\frac{\\pi}{2})$\n",
    "\n",
    "### square-z\n",
    "\n",
    "- points\n",
    "  - $p_0 = (0, 0)$\n",
    "  - $p_1 = (0, 1)$\n",
    "  - $p_2 = (0, 2)$\n",
    "  - $p_3 = (1, 2)$\n",
    "  - $p_4 = (1, 3)$\n",
    "  - $p_5 = (2, 3)$\n",
    "  - $p_6 = (2, 2)$\n",
    "  - $p_7 = (2, 1)$\n",
    "  - $p_8 = (1, 1)$\n",
    "  - $p_9 = (1, 0)$\n",
    "- translation-vectors\n",
    "  - $\\mathbf{a}_0 = (3, 1)$\n",
    "  - $\\mathbf{a}_1 = (1, -3)$\n",
    "  \n",
    "  - $\\mathbf{b}_0 = (\\frac{3\\pi}{5}, \\frac{\\pi}{5})$\n",
    "  - $\\mathbf{b}_0 = (\\frac{\\pi}{5}, -\\frac{3\\pi}{5})$\n",
    "\n",
    "### triangle-star\n",
    "\n",
    "- points\n",
    "  - $p_0 = (0, 0)$\n",
    "  - $p_1 = (0, -\\sqrt{3})$\n",
    "  - $p_2 = (-\\frac{1}{2}, -\\frac{\\sqrt{3}}{2})$\n",
    "  - $p_3 = (-\\frac{3}{2}, -\\frac{\\sqrt{3}}{2})$\n",
    "  - $p_4 = (-1, 0)$\n",
    "  - $p_5 = (-\\frac{3}{2}, \\frac{\\sqrt{3}}{2})$\n",
    "  - $p_6 = (-\\frac{1}{2}, \\frac{\\sqrt{3}}{2})$\n",
    "  - $p_7 = (0, \\sqrt{3})$\n",
    "  - $p_8 = (\\frac{1}{2}, \\frac{\\sqrt{3}}{2})$\n",
    "  - $p_9 = (\\frac{3}{2}, \\frac{\\sqrt{3}}{2})$\n",
    "  - $p_{10} = (1, 0)$\n",
    "  - $p_{11} = (\\frac{3}{2}, -\\frac{\\sqrt{3}}{2})$\n",
    "  - $p_{12} = (\\frac{1}{2}, -\\frac{\\sqrt{3}}{2})$\n",
    "- translation-vectors\n",
    "  - $\\mathbf{a}_0 = (\\frac{7}{2}, \\frac{\\sqrt{3}}{2})$\n",
    "  - $\\mathbf{a}_1 = (\\frac{5}{2}, -\\frac{3\\sqrt{3}}{2})$\n",
    "  \n",
    "  - $\\mathbf{b}_0 = (\\frac{6\\pi}{13}, \\frac{10\\pi}{13\\sqrt{3}})$\n",
    "  - $\\mathbf{b}_0 = (\\frac{2\\pi}{13}, -\\frac{14\\pi}{13\\sqrt{3}})$\n",
    "\n",
    "### honeycomb-benene\n",
    "\n",
    "- points\n",
    "  - $p_0 = (0, 0)$\n",
    "  - $p_1 = (0, \\frac{1}{\\sqrt{3}})$\n",
    "  - $p_2 = (\\frac{1}{2}, \\frac{\\sqrt{3}}{2})$\n",
    "  - $p_3 = (1, \\frac{1}{\\sqrt{3}})$\n",
    "  - $p_4 = (1, 0)$\n",
    "  - $p_5 = (\\frac{1}{2}, -\\frac{1}{2\\sqrt{3}})$\n",
    "- translation-vectors\n",
    "  - $\\mathbf{a}_0 = (\\frac{3}{2}, \\frac{\\sqrt{3}}{2})$\n",
    "  - $\\mathbf{a}_1 = (\\frac{3}{2}, -\\frac{\\sqrt{3}}{2})$\n",
    "  \n",
    "  - $\\mathbf{b}_0 = (\\frac{2\\pi}{3}, \\frac{2\\pi}{\\sqrt{3}})$\n",
    "  - $\\mathbf{b}_1 = (\\frac{2\\pi}{3}, -\\frac{2\\pi}{\\sqrt{3}})$\n",
    "\n",
    "### honeycomb-diphenyl\n",
    "\n",
    "- points\n",
    "  - $p_0 = (0, 0)$\n",
    "  - $p_1 = (0, \\frac{1}{\\sqrt{3}})$\n",
    "  - $p_2 = (\\frac{1}{2}, \\frac{\\sqrt{3}}{2})$\n",
    "  - $p_3 = (1, \\frac{1}{\\sqrt{3}})$\n",
    "  - $p_4 = (\\frac{3}{2}, \\frac{\\sqrt{3}}{2})$\n",
    "  - $p_5 = (2, \\frac{1}{\\sqrt{3}})$\n",
    "  - $p_6 = (2, 0)$\n",
    "  - $p_7 = (\\frac{3}{2}, -\\frac{1}{2\\sqrt{3}})$\n",
    "  - $p_8 = (1, 0)$\n",
    "  - $p_9 = (\\frac{1}{2}, -\\frac{1}{2\\sqrt{3}})$\n",
    "- translation-vectors\n",
    "  - $\\mathbf{a}_0 = (\\frac{5}{2}, \\frac{\\sqrt{3}}{2})$\n",
    "  - $\\mathbf{a}_1 = (\\frac{5}{2}, -\\frac{\\sqrt{3}}{2})$\n",
    "  \n",
    "  - $\\mathbf{b}_0 = (\\frac{2\\pi}{5}, \\frac{2\\pi}{\\sqrt{3}})$\n",
    "  - $\\mathbf{b}_1 = (\\frac{2\\pi}{5}, -\\frac{2\\pi}{\\sqrt{3}})$\n",
    "\n",
    "### honeycomb-gear\n",
    "\n",
    "- points\n",
    "  - $p_0 = (0, 0)$\n",
    "  - $p_1 = (0, \\frac{1}{\\sqrt{3}})$\n",
    "  - $p_2 = (\\frac{1}{2}, \\frac{\\sqrt{3}}{2})$\n",
    "  - $p_3 = (\\frac{1}{2}, \\frac{5}{2\\sqrt{3}})$\n",
    "  - $p_4 = (1, \\sqrt{3})$\n",
    "  - $p_5 = (\\frac{3}{2}, \\frac{5}{2\\sqrt{3}})$\n",
    "  - $p_6 = (2, \\sqrt{3})$\n",
    "  - $p_7 = (\\frac{5}{2}, \\frac{5}{2\\sqrt{3}})$\n",
    "  - $p_8 = (\\frac{5}{2}, \\frac{\\sqrt{3}}{2})$\n",
    "  - $p_9 = (3, \\frac{1}{\\sqrt{3}})$\n",
    "  - $p_{10} = (3, 0)$\n",
    "  - $p_{11} = (\\frac{5}{2}, -\\frac{1}{2\\sqrt{3}})$\n",
    "  - $p_{12} = (\\frac{5}{2}, -\\frac{\\sqrt{3}}{2})$\n",
    "  - $p_{13} = (2, -\\frac{2}{\\sqrt{3}})$\n",
    "  - $p_{14} = (\\frac{3}{2}, -\\frac{\\sqrt{3}}{2})$\n",
    "  - $p_{15} = (1, -\\frac{2}{\\sqrt{3}})$\n",
    "  - $p_{16} = (\\frac{1}{2}, -\\frac{\\sqrt{3}}{2})$\n",
    "  - $p_{17} = (\\frac{1}{2}, -\\frac{1}{2\\sqrt{3}})$\n",
    "  - $p_{18} = (1, 0)$\n",
    "  - $p_{19} = (1, \\frac{1}{\\sqrt{3}})$\n",
    "  - $p_{20} = (\\frac{3}{2}, \\frac{\\sqrt{3}}{2})$\n",
    "  - $p_{21} = (2, \\frac{1}{\\sqrt{3}})$\n",
    "  - $p_{22} = (2, 0)$\n",
    "  - $p_{23} = (\\frac{3}{2}, -\\frac{1}{2\\sqrt{3}})$\n",
    "- translation-vectors\n",
    "  - $\\mathbf{a}_0 = (3, \\sqrt{3})$\n",
    "  - $\\mathbf{a}_1 = (3, -\\sqrt{3})$\n",
    "  \n",
    "  - $\\mathbf{b}_0 = (\\frac{\\pi}{3}, \\frac{\\pi}{\\sqrt{3}})$\n",
    "  - $\\mathbf{b}_1 = (\\frac{\\pi}{3}, -\\frac{\\pi}{\\sqrt{3}})$"
   ]
  },
  {
   "cell_type": "code",
   "execution_count": 1,
   "metadata": {},
   "outputs": [],
   "source": [
    "from itertools import product\n",
    "\n",
    "import matplotlib.pyplot as plt\n",
    "import numpy as np"
   ]
  },
  {
   "cell_type": "code",
   "execution_count": 2,
   "metadata": {},
   "outputs": [],
   "source": [
    "# database for some commonly used unit-cells\n",
    "\n",
    "dtype = np.float64\n",
    "\n",
    "chain_cell_info = {\n",
    "    \"points\": np.array([[0.0]], dtype=dtype),\n",
    "    \"vectors\": np.array([[1.0]], dtype=dtype)\n",
    "}\n",
    "\n",
    "square_cell_info = {\n",
    "    \"points\": np.array([[0.0, 0.0]], dtype=dtype),\n",
    "    \"vectors\": np.array([[1.0, 0.0], [0.0, 1.0]], dtype=dtype)\n",
    "}\n",
    "\n",
    "triangle_cell_info = {\n",
    "    \"points\": np.array([[0.0, 0.0]], dtype=dtype),\n",
    "    \"vectors\": np.array([[1.0, 0.0], [0.5, np.sqrt(3)/2]], dtype=dtype)\n",
    "}\n",
    "\n",
    "honeycomb_cell_info = {\n",
    "    \"points\": np.array([[0.0, 0.0], [0.0, 1/np.sqrt(3)]], dtype=dtype),\n",
    "    \"vectors\": np.array([[1.0, 0.0], [0.5, np.sqrt(3)/2]], dtype=dtype)\n",
    "}\n",
    "\n",
    "kagome_cell_info = {\n",
    "    \"points\": np.array(\n",
    "        [[0, 0], [0.25, np.sqrt(3)/4], [0.5, 0.0]], dtype=dtype\n",
    "    ),\n",
    "    \"vectors\": np.array([[1, 0], [0.5, np.sqrt(3)/2]], dtype=dtype)\n",
    "}\n",
    "\n",
    "cubic_cell_info = {\n",
    "    \"points\": np.array([[0.0, 0.0, 0.0]], dtype=dtype),\n",
    "    \"vectors\": np.array(\n",
    "        [[1.0, 0.0, 0.0], [0.0, 1.0, 0.0], [0.0, 0.0, 1.0]], dtype=dtype\n",
    "    )\n",
    "}\n",
    "\n",
    "common_cells_info = {\n",
    "    \"chain\": chain_cell_info,\n",
    "    \"square\": square_cell_info,\n",
    "    \"triangle\": triangle_cell_info,\n",
    "    \"honeycomb\": honeycomb_cell_info,\n",
    "    \"kagome\": kagome_cell_info,\n",
    "    \"cubic\": cubic_cell_info,\n",
    "}"
   ]
  },
  {
   "cell_type": "code",
   "execution_count": 3,
   "metadata": {},
   "outputs": [],
   "source": [
    "# database for some commonly used clusters\n",
    "square_cross_info = {\n",
    "    \"points\": np.array(\n",
    "        [[0.0, 0.0], [0.0, 1.0], [1.0, 1.0], [1.0, 2.0],\n",
    "         [2.0, 2.0], [2.0, 1.0], [3.0, 1.0], [3.0, 0.0],\n",
    "         [2.0, 0.0], [2.0, -1.0], [1.0, -1.0], [1.0, 0.0]],\n",
    "        dtype=dtype\n",
    "    ),\n",
    "    \"vectors\": np.array([[3.0, 2.0], [3.0, -2.0]], dtype=dtype)\n",
    "}\n",
    "\n",
    "square_z_info = {\n",
    "    \"points\": np.array(\n",
    "        [[0.0, 0.0], [0.0, 1.0], [0.0, 2.0], [1.0, 2.0], [1.0, 3.0],\n",
    "         [2.0, 3.0], [2.0, 2.0], [2.0, 1.0], [1.0, 1.0], [1.0, 0.0]],\n",
    "        dtype=dtype\n",
    "    ),\n",
    "    \"vectors\": np.array([[3.0, 1.0], [1.0, -3.0]], dtype=dtype)\n",
    "}\n",
    "\n",
    "triangle_star_info = {\n",
    "    \"points\": np.array(\n",
    "        [[0.0, 0.0],\n",
    "         [0.0, -np.sqrt(3)], [-0.5, -np.sqrt(3)/2], [-1.5, -np.sqrt(3)/2],\n",
    "         [-1.0, 0.0], [-1.5, np.sqrt(3)/2], [-0.5, np.sqrt(3)/2],\n",
    "         [0.0, np.sqrt(3)], [0.5, np.sqrt(3)/2], [1.5, np.sqrt(3)/2],\n",
    "         [1.0, 0.0], [1.5, -np.sqrt(3)/2], [0.5, -np.sqrt(3)/2]],\n",
    "        dtype=dtype\n",
    "    ),\n",
    "    \"vectors\": np.array(\n",
    "        [[3.5, np.sqrt(3)/2], [2.5, -1.5*np.sqrt(3)]], dtype=dtype\n",
    "    )\n",
    "}\n",
    "\n",
    "honeycomb_benzene_info = {\n",
    "    \"points\": np.array(\n",
    "        [[0.0, 0.0], [0.0, 1/np.sqrt(3)], [0.5, np.sqrt(3)/2],\n",
    "         [1.0, 1/np.sqrt(3)], [1.0, 0.0], [0.5, -0.5/np.sqrt(3)]],\n",
    "        dtype=dtype\n",
    "    ),\n",
    "    \"vectors\": np.array(\n",
    "        [[1.5, np.sqrt(3)/2], [1.5, -np.sqrt(3)/2]], dtype=dtype\n",
    "    )\n",
    "}\n",
    "\n",
    "honeycomb_diphenyl_info = {\n",
    "    \"points\": np.array(\n",
    "        [[0.0, 0.0], [0.0, 1/np.sqrt(3)], [0.5, np.sqrt(3)/2],\n",
    "         [1.0, 1/np.sqrt(3)], [1.5, np.sqrt(3)/2], [2.0, 1/np.sqrt(3)],\n",
    "         [2.0, 0.0], [1.5, -0.5/np.sqrt(3)], [1.0, 0.0],\n",
    "         [0.5, -0.5/np.sqrt(3)]],\n",
    "        dtype=dtype\n",
    "    ),\n",
    "    \"vectors\": np.array(\n",
    "        [[2.5, np.sqrt(3)/2], [2.5, -np.sqrt(3)/2]], dtype=dtype\n",
    "    )\n",
    "}\n",
    "\n",
    "honeycomb_gear_info = {\n",
    "    \"points\": np.array(\n",
    "        [[0.0, 0.0], [0.0, 1/np.sqrt(3)], [0.5, np.sqrt(3)/2],\n",
    "         [0.5, 2.5/np.sqrt(3)], [1.0, np.sqrt(3)], [1.5, 2.5/np.sqrt(3)],\n",
    "         [2.0, np.sqrt(3)], [2.5, 2.5/np.sqrt(3)], [2.5, np.sqrt(3)/2],\n",
    "         [3.0, 1/np.sqrt(3)], [3.0, 0.0], [2.5, -0.5/np.sqrt(3)],\n",
    "         [2.5, -np.sqrt(3)/2], [2.0, -2/np.sqrt(3)], [1.5, -np.sqrt(3)/2],\n",
    "         [1.0, -2/np.sqrt(3)], [0.5, -np.sqrt(3)/2], [0.5, -0.5/np.sqrt(3)],\n",
    "         [1.0, 0.0], [1.0, 1/np.sqrt(3)], [1.5, np.sqrt(3)/2],\n",
    "         [2.0, 1/np.sqrt(3)], [2.0, 0.0], [1.5, -0.5/np.sqrt(3)]],\n",
    "        dtype=dtype\n",
    "    ),\n",
    "    \"vectors\": np.array([[3, np.sqrt(3)], [3, -np.sqrt(3)]], dtype=dtype)\n",
    "}\n",
    "\n",
    "special_clusters_info = {\n",
    "    \"square_cross\": square_cross_info,\n",
    "    \"square_12\": square_cross_info,\n",
    "    \"cross\": square_cross_info,\n",
    "\n",
    "    \"square_z\": square_z_info,\n",
    "    \"square_10\": square_z_info,\n",
    "    \"z\": square_z_info,\n",
    "\n",
    "    \"triangle_star\": triangle_star_info,\n",
    "    \"triangle_13\": triangle_star_info,\n",
    "    \"star\": triangle_star_info,\n",
    "\n",
    "    \"honeycomb_benzene\": honeycomb_benzene_info,\n",
    "    \"honeycomb_6\": honeycomb_benzene_info,\n",
    "    \"benzene\": honeycomb_benzene_info,\n",
    "\n",
    "    \"honeycomb_diphenyl\": honeycomb_diphenyl_info,\n",
    "    \"honeycomb_10\": honeycomb_diphenyl_info,\n",
    "    \"diphenyl\": honeycomb_diphenyl_info,\n",
    "\n",
    "    \"honeycomb_gear\": honeycomb_gear_info,\n",
    "    \"honeycomb_24\": honeycomb_gear_info,\n",
    "    \"gear\": honeycomb_gear_info,\n",
    "}"
   ]
  },
  {
   "cell_type": "code",
   "execution_count": 4,
   "metadata": {},
   "outputs": [],
   "source": [
    "def special_cluster(which):\n",
    "    \"\"\"\n",
    "    Generating some special cluster\n",
    "\n",
    "    Parameters\n",
    "    ----------\n",
    "    which : str\n",
    "        Which special lattice to generate\n",
    "        Currently supported special lattice:\n",
    "            \"square_cross\" | \"square_z\" | \"triangle_star\" |\n",
    "            \"honeycomb_benzene\" | \"honeycomb_diphenyl\" | \"honeycomb_gear\"\n",
    "        Alias:\n",
    "            \"square_cross\" | \"square_12\" | \"cross\";\n",
    "            \"square_z\" | \"square_10\" | \"z\";\n",
    "            \"triangle_star\" | \"triangle_13\" | \"star\";\n",
    "            \"honeycomb_benzene\" | \"honeycomb_6\"| \"benzene\";\n",
    "            \"honeycomb_diphenyl\" | \"honeycomb_10\" | \"diphenyl\";\n",
    "            \"honeycomb_gear\" | \"honeycomb_24\" | \"gear\"\n",
    "\n",
    "    Returns\n",
    "    -------\n",
    "    points : ndarray\n",
    "        The coordinates of the points in the cluster\n",
    "    vectors : ndarray\n",
    "        The translation vectors of the cluster\n",
    "    \"\"\"\n",
    "\n",
    "    try:\n",
    "        cluster_info = special_clusters_info[which]\n",
    "        return cluster_info[\"points\"], cluster_info[\"vectors\"]\n",
    "    except KeyError:\n",
    "        raise KeyError(\"Unrecognized special lattice name!\")\n",
    "\n",
    "\n",
    "def lattice_generator(which, num0=1, num1=1, num2=1):\n",
    "    \"\"\"\n",
    "    Generating a common cluster with translation symmetry\n",
    "\n",
    "    Parameters\n",
    "    ----------\n",
    "    which : str\n",
    "        Which  type of lattice to generate.\n",
    "        Legal value:\n",
    "            \"chain\" | \"square\" | \"triangle\" | \"honeycomb\" | \"kagome\" | \"cubic\"\n",
    "    num0 : int, optional\n",
    "        The number of unit cell along the first translation vector\n",
    "        default: 1\n",
    "    num1 : int, optional\n",
    "        The number of unit cell along the second translation vector. It only\n",
    "        takes effect for 2D and 3D lattice.\n",
    "        default: 1\n",
    "    num2 : int, optional\n",
    "        The number of unit cell along the second translation vector. It only\n",
    "        takes effect for 3D lattice.\n",
    "        default : 1\n",
    "\n",
    "    Returns\n",
    "    -------\n",
    "    points : ndarray\n",
    "        The coordinates of the points in the cluster\n",
    "    vectors : ndarray\n",
    "        The translation vectors of the cluster\n",
    "    \"\"\"\n",
    "\n",
    "    assert isinstance(num0, int) and num0 >= 1\n",
    "    assert isinstance(num1, int) and num1 >= 1\n",
    "    assert isinstance(num2, int) and num2 >= 1\n",
    "\n",
    "    try:\n",
    "        cell_info = common_cells_info[which]\n",
    "        cell_points = cell_info[\"points\"]\n",
    "        cell_vectors = cell_info[\"vectors\"]\n",
    "    except KeyError:\n",
    "        raise KeyError(\"Unrecognized lattice type!\")\n",
    "\n",
    "    if which == \"chain\":\n",
    "        if num0 == 1:\n",
    "            return cell_points, cell_vectors\n",
    "        else:\n",
    "            vectors = cell_vectors * np.array([[num0]])\n",
    "            mesh = product(range(num0))\n",
    "    elif which == \"cubic\":\n",
    "        if num0 == 1 and num1 == 1 and num2 == 1:\n",
    "            return cell_points, cell_vectors\n",
    "        else:\n",
    "            vectors = cell_vectors * np.array([[num0], [num1], [num2]])\n",
    "            mesh = product(range(num0), range(num1), range(num2))\n",
    "    else:\n",
    "        if num0 == 1 and num1 == 1:\n",
    "            return cell_points, cell_vectors\n",
    "        else:\n",
    "            vectors = cell_vectors * np.array([[num0], [num1]])\n",
    "            mesh = product(range(num0), range(num1))\n",
    "\n",
    "    dim = cell_points.shape[1]\n",
    "    dRs = np.matmul(list(mesh), cell_vectors)\n",
    "    points = np.reshape(dRs[:, np.newaxis, :] + cell_points, newshape=(-1, dim))\n",
    "\n",
    "    return points, vectors\n",
    "\n",
    "def show(points, vectors, scope=0):\n",
    "    \"\"\"\n",
    "    Plot the given `points`\n",
    "    \n",
    "    Parameter\n",
    "    ---------\n",
    "    points : ndarray\n",
    "        The coordinates of the points\n",
    "    vectors : ndarray\n",
    "        The trnaslation vectors of the cluster\n",
    "    scope : int, optional\n",
    "        Determine the number of cluster to draw\n",
    "        default: 0\n",
    "    \"\"\"\n",
    "    \n",
    "    assert isinstance(points, np.ndarray) and points.ndim == 2\n",
    "    assert isinstance(vectors, np.ndarray) and vectors.ndim == 2    \n",
    "    assert isinstance(scope, int) and scope >= 0\n",
    "    \n",
    "    point_num, space_dim = points.shape\n",
    "    trans_dim, tmp = vectors.shape\n",
    "    if space_dim > 2:\n",
    "        raise ValueError(\"Not supported space dimension!\")\n",
    "    \n",
    "    if trans_dim > space_dim:\n",
    "        raise ValueError(\"The number of translation vectors should be no more than the space dimension!\")\n",
    "    \n",
    "    if tmp != space_dim:\n",
    "        raise ValueError(\"The translation vectors should have the same space dimension as the points!\")\n",
    "    \n",
    "    clusters = [\n",
    "        points + np.matmul(tmp, vectors)\n",
    "        for tmp in product(range(-scope, scope+1), repeat=trans_dim)\n",
    "    ]\n",
    "    \n",
    "    fig, ax = plt.subplots()\n",
    "    fig.set_size_inches((16, 9))\n",
    "    ax.set_axis_off()\n",
    "    ax.set_aspect(\"equal\")\n",
    "    \n",
    "    if space_dim == 1:\n",
    "        ys = np.zeros(shape=points.shape)\n",
    "        for cluster in clusters:\n",
    "            ax.plot(cluster, ys, marker=\"o\", ls=\"None\", ms=8)\n",
    "    else:\n",
    "        for cluster in clusters:\n",
    "            ax.plot(cluster[:, 0], cluster[:, 1], marker=\"o\", ls=\"None\", ms=8)\n",
    "    \n",
    "    left, right = ax.get_xlim()\n",
    "    bottom, top = ax.get_ylim()    \n",
    "    half = max(right - left, top - bottom) / 2\n",
    "    x_center = (right + left) / 2\n",
    "    y_center = (top + bottom) / 2\n",
    "    ax.set_xlim(left=x_center-half, right=x_center+half)\n",
    "    ax.set_ylim(bottom=y_center-half, top=y_center+half)\n",
    "    plt.show()"
   ]
  },
  {
   "cell_type": "code",
   "execution_count": 5,
   "metadata": {},
   "outputs": [
    {
     "data": {
      "image/png": "[encoded data removed]",
      "text/plain": [
       "<Figure size 1152x648 with 1 Axes>"
      ]
     },
     "metadata": {},
     "output_type": "display_data"
    }
   ],
   "source": [
    "show(*special_cluster(\"square_cross\"), scope=1)"
   ]
  },
  {
   "cell_type": "code",
   "execution_count": 6,
   "metadata": {},
   "outputs": [
    {
     "data": {
      "image/png": "[encoded data removed]",
      "text/plain": [
       "<Figure size 1152x648 with 1 Axes>"
      ]
     },
     "metadata": {},
     "output_type": "display_data"
    }
   ],
   "source": [
    "show(*special_cluster(\"square_z\"), scope=1)"
   ]
  },
  {
   "cell_type": "code",
   "execution_count": 7,
   "metadata": {},
   "outputs": [
    {
     "data": {
      "image/png": "[encoded data removed]",
      "text/plain": [
       "<Figure size 1152x648 with 1 Axes>"
      ]
     },
     "metadata": {},
     "output_type": "display_data"
    }
   ],
   "source": [
    "show(*special_cluster(\"triangle_star\"), scope=1)"
   ]
  },
  {
   "cell_type": "code",
   "execution_count": 8,
   "metadata": {},
   "outputs": [
    {
     "data": {
      "image/png": "[encoded data removed]",
      "text/plain": [
       "<Figure size 1152x648 with 1 Axes>"
      ]
     },
     "metadata": {},
     "output_type": "display_data"
    }
   ],
   "source": [
    "show(*special_cluster(\"honeycomb_benzene\"), scope=1)"
   ]
  },
  {
   "cell_type": "code",
   "execution_count": 9,
   "metadata": {},
   "outputs": [
    {
     "data": {
      "image/png": "[encoded data removed]",
      "text/plain": [
       "<Figure size 1152x648 with 1 Axes>"
      ]
     },
     "metadata": {},
     "output_type": "display_data"
    }
   ],
   "source": [
    "show(*special_cluster(\"honeycomb_diphenyl\"), scope=1)"
   ]
  },
  {
   "cell_type": "code",
   "execution_count": 10,
   "metadata": {},
   "outputs": [
    {
     "data": {
      "image/png": "[encoded data removed]",
      "text/plain": [
       "<Figure size 1152x648 with 1 Axes>"
      ]
     },
     "metadata": {},
     "output_type": "display_data"
    }
   ],
   "source": [
    "show(*special_cluster(\"honeycomb_gear\"), scope=1)"
   ]
  },
  {
   "cell_type": "code",
   "execution_count": 11,
   "metadata": {},
   "outputs": [
    {
     "data": {
      "image/png": "[encoded data removed]",
      "text/plain": [
       "<Figure size 1152x648 with 1 Axes>"
      ]
     },
     "metadata": {},
     "output_type": "display_data"
    }
   ],
   "source": [
    "num = 4\n",
    "show(*lattice_generator(\"chain\", num0=num), scope=1)"
   ]
  },
  {
   "cell_type": "code",
   "execution_count": 12,
   "metadata": {},
   "outputs": [
    {
     "data": {
      "image/png": "[encoded data removed]",
      "text/plain": [
       "<Figure size 1152x648 with 1 Axes>"
      ]
     },
     "metadata": {},
     "output_type": "display_data"
    }
   ],
   "source": [
    "show(*lattice_generator(\"square\", num0=num, num1=num), scope=1)"
   ]
  },
  {
   "cell_type": "code",
   "execution_count": 13,
   "metadata": {},
   "outputs": [
    {
     "data": {
      "image/png": "[encoded data removed]",
      "text/plain": [
       "<Figure size 1152x648 with 1 Axes>"
      ]
     },
     "metadata": {},
     "output_type": "display_data"
    }
   ],
   "source": [
    "show(*lattice_generator(\"triangle\", num0=num, num1=num), scope=1)"
   ]
  },
  {
   "cell_type": "code",
   "execution_count": 14,
   "metadata": {},
   "outputs": [
    {
     "data": {
      "image/png": "[encoded data removed]",
      "text/plain": [
       "<Figure size 1152x648 with 1 Axes>"
      ]
     },
     "metadata": {},
     "output_type": "display_data"
    }
   ],
   "source": [
    "show(*lattice_generator(\"honeycomb\", num0=num, num1=num), scope=1)"
   ]
  },
  {
   "cell_type": "code",
   "execution_count": 15,
   "metadata": {},
   "outputs": [
    {
     "data": {
      "image/png": "[encoded data removed]",
      "text/plain": [
       "<Figure size 1152x648 with 1 Axes>"
      ]
     },
     "metadata": {},
     "output_type": "display_data"
    }
   ],
   "source": [
    "show(*lattice_generator(\"kagome\", num0=num, num1=num), scope=1)"
   ]
  }
 ],
 "metadata": {
  "kernelspec": {
   "display_name": "Python 3",
   "language": "python",
   "name": "python3"
  },
  "language_info": {
   "codemirror_mode": {
    "name": "ipython",
    "version": 3
   },
   "file_extension": ".py",
   "mimetype": "text/x-python",
   "name": "python",
   "nbconvert_exporter": "python",
   "pygments_lexer": "ipython3",
   "version": "3.6.6"
  }
 },
 "nbformat": 4,
 "nbformat_minor": 2
}
